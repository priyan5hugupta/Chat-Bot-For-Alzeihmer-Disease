{
 "cells": [
  {
   "cell_type": "code",
   "execution_count": 1,
   "metadata": {},
   "outputs": [
    {
     "name": "stdout",
     "output_type": "stream",
     "text": [
      "pygame 2.5.2 (SDL 2.28.3, Python 3.10.7)\n",
      "Hello from the pygame community. https://www.pygame.org/contribute.html\n"
     ]
    }
   ],
   "source": [
    "import sys\n",
    "from PyQt5.QtCore import Qt\n",
    "from PyQt5.QtGui import QPainter, QPixmap\n",
    "from PyQt5.QtWidgets import QApplication, QWidget, QLabel, QVBoxLayout, QLineEdit, QPushButton\n",
    "import subprocess\n",
    "from deep_translator import GoogleTranslator\n",
    "from gtts import gTTS\n",
    "import pandas as pd\n",
    "from sklearn.feature_extraction.text import TfidfVectorizer\n",
    "from sklearn.metrics.pairwise import cosine_similarity\n",
    "import pygame\n",
    "\n",
    "app = QApplication([])\n"
   ]
  },
  {
   "cell_type": "code",
   "execution_count": 2,
   "metadata": {},
   "outputs": [],
   "source": [
    "df = pd.read_csv('alzheimers_chatbot_data.csv')\n",
    "\n",
    "def preprocess_text(text):\n",
    "    return text.lower()\n",
    "\n",
    "df['Preprocessed_Question'] = df['Question'].apply(preprocess_text)\n",
    "vectorizer = TfidfVectorizer()\n",
    "tfidf_matrix = vectorizer.fit_transform(df['Preprocessed_Question'])\n",
    "\n",
    "def get_best_answer(user_query):\n",
    "    query_vector = vectorizer.transform([preprocess_text(user_query)])\n",
    "    cosine_similarities = cosine_similarity(query_vector, tfidf_matrix).flatten()\n",
    "    best_match_index = cosine_similarities.argmax()\n",
    "    return df.iloc[best_match_index]['Answer'], cosine_similarities[best_match_index]\n"
   ]
  },
  {
   "cell_type": "code",
   "execution_count": 3,
   "metadata": {},
   "outputs": [],
   "source": [
    "def speak(text, lang='en'):\n",
    "    audio_file = 'output.mp3'\n",
    "    gTTS(text=text, lang=lang).save(audio_file)\n",
    "    return audio_file\n",
    "\n",
    "def voice():\n",
    "    with open(\"lang.txt\") as file:\n",
    "        target_lang = file.read()\n",
    "    with open(\"answer.txt\") as file:\n",
    "        translated_answer = GoogleTranslator(source='en', target=target_lang).translate(file.readlines()[1])\n",
    "    pygame.mixer.init()\n",
    "    pygame.mixer.Sound(speak(translated_answer, lang=target_lang)).play()\n",
    "    pygame.time.delay(int(pygame.mixer.Sound('output.mp3').get_length() * 1000))\n",
    "    pygame.mixer.quit()\n",
    "\n",
    "def answer_button():\n",
    "    answer, relevance_score = get_best_answer(input_box.text())\n",
    "    with open('answer.txt', \"w\") as file:\n",
    "        file.write(f\"{input_box.text()}\\n{answer}\")\n",
    "    window.close()\n",
    "    subprocess.run([\"python\", \"chatbot_answer.py\"])\n",
    "\n",
    "def lang_change():\n",
    "    subprocess.run([\"python\", \"change_lang.py\"])\n",
    "\n",
    "def predict():\n",
    "    subprocess.run([\"python\", \"prediction.py\"])\n"
   ]
  },
  {
   "cell_type": "code",
   "execution_count": 4,
   "metadata": {},
   "outputs": [
    {
     "ename": "SystemExit",
     "evalue": "0",
     "output_type": "error",
     "traceback": [
      "An exception has occurred, use %tb to see the full traceback.\n",
      "\u001b[1;31mSystemExit\u001b[0m\u001b[1;31m:\u001b[0m 0\n"
     ]
    },
    {
     "name": "stderr",
     "output_type": "stream",
     "text": [
      "C:\\Users\\priyanshu\\AppData\\Roaming\\Python\\Python310\\site-packages\\IPython\\core\\interactiveshell.py:3377: UserWarning: To exit: use 'exit', 'quit', or Ctrl-D.\n",
      "  warn(\"To exit: use 'exit', 'quit', or Ctrl-D.\", stacklevel=1)\n"
     ]
    }
   ],
   "source": [
    "window = QWidget()\n",
    "window.setWindowTitle(\"Chatbot\")\n",
    "window.setGeometry(0, 0, 1200, 650)\n",
    "\n",
    "window.paintEvent = lambda event: QPainter(window).drawPixmap(0, 0, window.width(), window.height(), QPixmap('background.jpg'))\n",
    "\n",
    "text_label = QLabel(\"Welcome To The Chatbot\", window)\n",
    "text_label.setGeometry(0, 0, window.width(), 50)\n",
    "text_label.setAlignment(Qt.AlignCenter)\n",
    "text_label.setStyleSheet(\"color: white; font-size: 40px; font-family: Arial;\")\n",
    "\n",
    "input_box = QLineEdit(window)\n",
    "input_box.setGeometry(10, window.height() - 50, window.width() - 200, 40)\n",
    "\n",
    "button_voice = QPushButton(\"Voice\", window)\n",
    "button_voice.setGeometry(10, window.height() - 90, 80, 30)\n",
    "button_voice.setStyleSheet(\"background-color: black; color: red; font-size: 15px; font-family: Arial;font-weight: bold;\")\n",
    "button_voice.clicked.connect(voice)\n",
    "\n",
    "button_lang = QPushButton(\"Language Change\", window)\n",
    "button_lang.setGeometry(100, window.height() - 90, 150, 30)\n",
    "button_lang.setStyleSheet(\"background-color: black; color: red; font-size: 15px; font-family: Arial;font-weight: bold;\")\n",
    "button_lang.clicked.connect(lang_change)\n",
    "\n",
    "button_prediction = QPushButton(\"Predict The Alzheimer\", window)\n",
    "button_prediction.setGeometry(260, window.height() - 90, 170, 30)\n",
    "button_prediction.setStyleSheet(\"background-color: black; color: red; font-size: 15px; font-family: Arial;font-weight: bold;\")\n",
    "button_prediction.clicked.connect(predict)\n",
    "\n",
    "button_ans = QPushButton(\"Answer\", window)\n",
    "button_ans.setGeometry(window.width() - 150, window.height() - 50, 100, 40)\n",
    "button_ans.setStyleSheet(\"background-color: black; color: red; font-size: 15px; font-family: Arial;font-weight: bold;\")\n",
    "button_ans.clicked.connect(answer_button)\n",
    "\n",
    "window.show()\n",
    "sys.exit(app.exec_())\n"
   ]
  }
 ],
 "metadata": {
  "kernelspec": {
   "display_name": "Python 3",
   "language": "python",
   "name": "python3"
  },
  "language_info": {
   "codemirror_mode": {
    "name": "ipython",
    "version": 3
   },
   "file_extension": ".py",
   "mimetype": "text/x-python",
   "name": "python",
   "nbconvert_exporter": "python",
   "pygments_lexer": "ipython3",
   "version": "3.10.7"
  }
 },
 "nbformat": 4,
 "nbformat_minor": 2
}
