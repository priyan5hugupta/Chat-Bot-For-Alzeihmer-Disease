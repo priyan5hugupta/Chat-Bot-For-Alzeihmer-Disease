{
 "cells": [
  {
   "cell_type": "code",
   "execution_count": null,
   "metadata": {
    "colab": {
     "base_uri": "https://localhost:8080/",
     "height": 764
    },
    "id": "ruz9eNfp0OIB",
    "outputId": "430a5c91-977f-4b78-aa18-56c0e8e4c8ba"
   },
   "outputs": [
    {
     "name": "stdout",
     "output_type": "stream",
     "text": [
      "Welcome to the Alzheimer's Chatbot! Type 'exit' to quit.\n",
      "Chatbot: Alzheimer's disease is a progressive brain disorder that leads to memory loss, confusion, and cognitive decline.\n",
      "Relevance Score: 0.00\n"
     ]
    }
   ],
   "source": [
    "# Import necessary libraries\n",
    "import pandas as pd\n",
    "from sklearn.feature_extraction.text import TfidfVectorizer\n",
    "from sklearn.metrics.pairwise import cosine_similarity\n",
    "from gtts import gTTS\n",
    "import IPython.display as ipd\n",
    "from deep_translator import GoogleTranslator\n",
    "\n",
    "# Load the dataset\n",
    "df = pd.read_csv('alzheimers_chatbot_data.csv')  # Update with your CSV file path\n",
    "\n",
    "# Preprocess the text\n",
    "def preprocess_text(text):\n",
    "    text = text.lower()  # Convert to lowercase\n",
    "    return text\n",
    "\n",
    "# Preprocess the questions in the dataset\n",
    "df['Preprocessed_Question'] = df['Question'].apply(preprocess_text)\n",
    "\n",
    "# Create a TF-IDF Vectorizer\n",
    "vectorizer = TfidfVectorizer()\n",
    "tfidf_matrix = vectorizer.fit_transform(df['Preprocessed_Question'])\n",
    "\n",
    "# Function to find the best match for a user query and return the relevance score\n",
    "def get_best_answer(user_query):\n",
    "    user_query = preprocess_text(user_query)\n",
    "    query_vector = vectorizer.transform([user_query])\n",
    "    cosine_similarities = cosine_similarity(query_vector, tfidf_matrix).flatten()\n",
    "    best_match_index = cosine_similarities.argmax()  # Get index of the highest similarity\n",
    "    best_answer = df.iloc[best_match_index]['Answer']\n",
    "    relevance_score = cosine_similarities[best_match_index]  # Get relevance score\n",
    "    return best_answer, relevance_score\n",
    "\n",
    "# Function to convert text to speech using gTTS\n",
    "def speak(text, lang='en'):\n",
    "    tts = gTTS(text=text, lang=lang)\n",
    "    audio_file = 'output.mp3'\n",
    "    tts.save(audio_file)\n",
    "    return audio_file\n",
    "\n",
    "\n",
    "# Main loop for user interaction\n",
    "print(\"Welcome to the Alzheimer's Chatbot! Type 'exit' to quit.\")\n",
    "\n",
    "while True:\n",
    "    lang_choice = input(\"Which language would you like to hear the answer in? (english/hindi/spanish/french): \").strip().lower()\n",
    "    if lang_choice == 'hindi':\n",
    "        target_lang = 'hi'\n",
    "    elif lang_choice == 'spanish':\n",
    "        target_lang = 'es'\n",
    "    elif lang_choice == 'french':\n",
    "        target_lang = 'fr'\n",
    "    elif lang_choice =='english' : \n",
    "        target_lang ='en'\n",
    "        \n",
    "    user_query = input(\"You: \")\n",
    "    if user_query.lower() == 'exit':\n",
    "        print(\"Chatbot: Goodbye!\")\n",
    "        break\n",
    "\n",
    "    answer, relevance_score = get_best_answer(user_query)\n",
    "    print(f\"Chatbot: {answer}\")\n",
    "    print(f\"Relevance Score: {relevance_score:.2f}\")  # Display relevance score\n",
    "\n",
    "    # Ask if the user wants to hear the answer\n",
    "    hear_answer = input(\"Would you like to hear the answer? (yes/no): \").strip().lower()\n",
    "    if hear_answer == 'yes':\n",
    "        # Ask for the language preference\n",
    "        translated_answer = GoogleTranslator(source='en', target= target_lang).translate(answer)\n",
    "        audio_file = speak(translated_answer, lang= target_lang)  # Generate audio file in Hindi\n",
    "        import pygame\n",
    "\n",
    "        # Initialize pygame mixer\n",
    "        pygame.mixer.init()\n",
    "\n",
    "        # Load the sound file\n",
    "        sound = pygame.mixer.Sound('output.mp3')\n",
    "\n",
    "        # Play the sound\n",
    "        sound.play()\n",
    "\n",
    "        # Wait for the sound to finish playing\n",
    "        pygame.time.delay(int(sound.get_length() * 1000))\n",
    "\n",
    "        # Quit pygame mixer\n",
    "        pygame.mixer.quit()"
   ]
  }
 ],
 "metadata": {
  "colab": {
   "provenance": [],
   "toc_visible": true
  },
  "kernelspec": {
   "display_name": "Python 3",
   "name": "python3"
  },
  "language_info": {
   "codemirror_mode": {
    "name": "ipython",
    "version": 3
   },
   "file_extension": ".py",
   "mimetype": "text/x-python",
   "name": "python",
   "nbconvert_exporter": "python",
   "pygments_lexer": "ipython3",
   "version": "3.10.7"
  }
 },
 "nbformat": 4,
 "nbformat_minor": 0
}
